{
  "nbformat": 4,
  "nbformat_minor": 0,
  "metadata": {
    "colab": {
      "provenance": []
    },
    "kernelspec": {
      "name": "python3",
      "display_name": "Python 3"
    },
    "language_info": {
      "name": "python"
    }
  },
  "cells": [
    {
      "cell_type": "markdown",
      "source": [
        "# Python Basics Questions\n",
        "\n"
      ],
      "metadata": {
        "id": "haTGbsVCSvK8"
      }
    },
    {
      "cell_type": "markdown",
      "source": [
        "Q1. What is Python, and why is it popular?\n",
        "\n",
        " **ANSWER** :- Python is a high level language, interpreted programming language known for its readability and simplicity.\n",
        " - Easy to learn and use\n",
        " - Large standard library and active community\n",
        " - Cross-platform compatibility\n",
        " - Supports multiple programming (OOP, functional)\n",
        " - Widely used in Data Science, Data analytics, Web development, AI, Automation.\n",
        "\n",
        "Q2. What is an interpreter in Python?\n",
        "\n",
        " **ANSWER** :- An interpreter is a program that executes Python code line-by-line, converting it into machine code at runtime\n",
        "\n",
        "Q3. What are pre-defined keywords in Python?\n",
        "\n",
        " **ANSWER** :- Keywords are reserved words in Python that have predefined meanings (e.g., if, else, for, True). We cannot use them as variable names.\n",
        "\n",
        "Q4. Can keywords be used as variable names?\n",
        "\n",
        " **ANSWER** :- Keywords can not  be used as variable names in Python because they have special, predefined meanings in the language syntax.\n",
        "\n",
        "  If Python allowed us to use a keyword as a variable name, it would confuse the interpreter it would not know whether we meant to use the keywords original purpose or our variable.\n",
        "\n",
        "Q5. What is mutability in Python?\n",
        "\n",
        "  **ANSWER** :- Mutability means whether the object content can be changed after creation.\n",
        "\n",
        "Mutable: Can be changed (e.g., lists, dictionaries).\n",
        "\n",
        "Immutable: Cannot be changed (e.g., tuples, strings).\n",
        "\n",
        "Q6. Why are lists mutable, but tuples are immutable?\n",
        "\n",
        "**ANSWER** :-\n",
        "\n",
        " Lists: Stored as dynamic arrays -> elements can be changed, added, removed.\n",
        "\n",
        "Tuples: Stored in fixed memory -> prevents modification after creation.\n",
        "\n",
        "Q7.  What is the difference between \"==\" and \"is\" operators in Python?\n",
        "\n",
        "**ANSWER** :-\n",
        "\n",
        "==  Compares values.\n",
        "\n",
        "is -> Compares memory locations (object identity).\n",
        "\n",
        "Q8. What are logical operators in Python?\n",
        "\n",
        "**ANSWER** :-\n",
        "\n",
        " and -> Returns True if both conditions are True.\n",
        "\n",
        "or -> Returns True if at least one condition is True.\n",
        "\n",
        "not -> Returns the opposite of the condition.\n",
        "\n",
        "Q9. What is type casting in Python?\n",
        "\n",
        "**ANSWER** :- Type casting means converting a variable from one data type to another.\n",
        "\n",
        "Q10. What is the difference between implicit and explicit type casting?\n",
        "\n",
        "**ANSWER** :-\n",
        "\n",
        "  Implicit: Done automatically by Python.\n",
        "\n",
        "  Explicit: Done manually using functions like int(), float(), str().\n",
        "\n",
        "Q11. What is the Purpose of conditional statements in Python?\n",
        "\n",
        "**ANSWER** :- They allow code to make decisions and execute specific blocks only when certain conditions are true.\n",
        "\n",
        "Q12. How does the elif statement work?\n",
        "\n",
        "**ANSWER** :- The elif statement in Python is short for \"else if\" and is used when you have multiple conditions to check, one after another.\n",
        "\n",
        "**How it works**\n",
        "\n",
        "Python checks the first if condition.\n",
        "\n",
        "If it's True, it runs that block and skips the rest.\n",
        "\n",
        "If it's False, it moves to the elif condition.\n",
        "\n",
        "If that's True, it runs the elif block and skips the rest.\n",
        "\n",
        "If all conditions are False, it runs the optional else block."
      ],
      "metadata": {
        "id": "hBmZxHGkTOtu"
      }
    },
    {
      "cell_type": "code",
      "source": [
        "marks = 85\n",
        "\n",
        "if marks >= 90:\n",
        "    print(\"Grade: A\")\n",
        "elif marks >= 75:\n",
        "    print(\"Grade: B\")\n",
        "elif marks >= 60:\n",
        "    print(\"Grade: C\")\n",
        "else:\n",
        "    print(\"Grade: Fail\")\n"
      ],
      "metadata": {
        "colab": {
          "base_uri": "https://localhost:8080/"
        },
        "id": "MscHS1qhr9q2",
        "outputId": "8281ea68-3415-46e5-d1a0-d3ecd1261275"
      },
      "execution_count": null,
      "outputs": [
        {
          "output_type": "stream",
          "name": "stdout",
          "text": [
            "Grade: B\n"
          ]
        }
      ]
    },
    {
      "cell_type": "markdown",
      "source": [
        "Q13. What is the difference between for and while loop?\n",
        "\n",
        "**ANSWER** :-\n",
        "\n",
        "- for loop: Used when we know exactly how many times we want to repeat the code, usually by iterating over a sequence like a list, string, or range.\n",
        "\n",
        "- while loop: Used when we don't know the exact number of repetitions in advance it keeps running as long as a given condition is True.\n",
        "\n",
        "Q14. Describe a scenario where a while loop is more suitable than a for loop.\n",
        "\n",
        " **ANSWER** :-\n",
        "\n",
        " A while loop is more suitable when we don't know in advance how many times we need to repeat the code and want to keep running until a certain condition is met.\n",
        "\n",
        "Example Scenario:\n",
        "We're making a program that asks the user to enter a password. We want it to keep asking until they enter the correct one.\n",
        "Here, We can't decide the number of attempts beforehand, so a while loop is better.\n",
        "\n",
        "\n",
        "#Practical Questions\n",
        "\n",
        "Q1. Write a Python program to print \"Hello, World!\"\n",
        "\n"
      ],
      "metadata": {
        "id": "26cYQzXTAFSK"
      }
    },
    {
      "cell_type": "code",
      "source": [
        "print(\"Hello, World!\")"
      ],
      "metadata": {
        "id": "BVCFFQG1MjWx"
      },
      "execution_count": null,
      "outputs": []
    },
    {
      "cell_type": "markdown",
      "source": [
        "Q2. Write a Python program that displays your name and age.\n"
      ],
      "metadata": {
        "id": "_zl35c-TN0RG"
      }
    },
    {
      "cell_type": "code",
      "source": [
        "name = \"Rahul\"\n",
        "age = 20\n",
        "print(f\"My name is {name}\")\n",
        "print(f\"I am {age} years old.\")"
      ],
      "metadata": {
        "id": "hLwGtIrSN8PN"
      },
      "execution_count": null,
      "outputs": []
    },
    {
      "cell_type": "markdown",
      "source": [
        "Q3. Write code to print all the pre-defined keywords in Python using the keyword library.\n",
        "\n"
      ],
      "metadata": {
        "id": "YkUFk8OOPNYd"
      }
    },
    {
      "cell_type": "code",
      "source": [
        "import keyword\n",
        "print(keyword.kwlist)"
      ],
      "metadata": {
        "colab": {
          "base_uri": "https://localhost:8080/"
        },
        "id": "VRp3w4CcPWHO",
        "outputId": "3670dd3a-a10b-41bd-ff9b-9fa1a4a38dcc"
      },
      "execution_count": null,
      "outputs": [
        {
          "output_type": "stream",
          "name": "stdout",
          "text": [
            "['False', 'None', 'True', 'and', 'as', 'assert', 'async', 'await', 'break', 'class', 'continue', 'def', 'del', 'elif', 'else', 'except', 'finally', 'for', 'from', 'global', 'if', 'import', 'in', 'is', 'lambda', 'nonlocal', 'not', 'or', 'pass', 'raise', 'return', 'try', 'while', 'with', 'yield']\n"
          ]
        }
      ]
    },
    {
      "cell_type": "markdown",
      "source": [
        "Q4. Write a program that checks if a given word is a Python keyword\n"
      ],
      "metadata": {
        "id": "0rulU28OPjMM"
      }
    },
    {
      "cell_type": "code",
      "source": [
        "import keyword\n",
        "\n",
        "word = input(\"Enter a word: \")\n",
        "if keyword.iskeyword(word):\n",
        "    print(f\"{word} is a Python keyword.\")\n",
        "else:\n",
        "    print(f\"{word} is NOT a Python keyword.\")\n"
      ],
      "metadata": {
        "id": "u5y7CV4YQSGC"
      },
      "execution_count": null,
      "outputs": []
    },
    {
      "cell_type": "markdown",
      "source": [
        "Q5. Create a list and tuple in Python, and demonstrate how attempting to change an element works differently for each.\n"
      ],
      "metadata": {
        "id": "oADmhbcwQVJc"
      }
    },
    {
      "cell_type": "code",
      "source": [
        "# List\n",
        "my_list = [1, 2, 3]\n",
        "my_list[0] = 10\n",
        "print(\"Updated list:\", my_list)\n",
        "\n",
        "# Tuple\n",
        "my_tuple = (1, 2, 3)\n",
        "try:\n",
        "    my_tuple[0] = 10\n",
        "except TypeError:\n",
        "    print(\"Tuples are immutable, you cannot change elements.\")\n"
      ],
      "metadata": {
        "id": "0GsrQ-ajQfX8"
      },
      "execution_count": null,
      "outputs": []
    },
    {
      "cell_type": "markdown",
      "source": [
        "Q6. Write a function to demonstrate the behavior of mutable and immutable arguments\n"
      ],
      "metadata": {
        "id": "ZATan1K_Qoy9"
      }
    },
    {
      "cell_type": "code",
      "source": [
        "def modify_list(lst):\n",
        "    lst.append(100)  # Mutable change\n",
        "    print(\"Inside function (list):\", lst)\n",
        "\n",
        "def modify_number(num):\n",
        "    num += 10  # Immutable change\n",
        "    print(\"Inside function (number):\", num)\n",
        "\n",
        "# Test\n",
        "my_list = [1, 2, 3]\n",
        "modify_list(my_list)\n",
        "print(\"Outside function (list):\", my_list)\n",
        "\n",
        "number = 5\n",
        "modify_number(number)\n",
        "print(\"Outside function (number):\", number)\n"
      ],
      "metadata": {
        "id": "Tv3bCRH3Q1LI"
      },
      "execution_count": null,
      "outputs": []
    },
    {
      "cell_type": "markdown",
      "source": [
        "Q7. Write a program that performs basic arithmetic operations on two user-input numbers.\n"
      ],
      "metadata": {
        "id": "_X3Zv0cwQ-hJ"
      }
    },
    {
      "cell_type": "code",
      "source": [
        "a = float(input(\"Enter first number: \"))\n",
        "b = float(input(\"Enter second number: \"))\n",
        "\n",
        "print(\"Addition:\", a + b)\n",
        "print(\"Subtraction:\", a - b)\n",
        "print(\"Multiplication:\", a * b)\n",
        "print(\"Division:\", a / b)\n"
      ],
      "metadata": {
        "id": "w51Pg4D4RGws"
      },
      "execution_count": null,
      "outputs": []
    },
    {
      "cell_type": "markdown",
      "source": [
        "Q8. Write a program to demonstrate the use of logical operators.\n"
      ],
      "metadata": {
        "id": "RypcJ6t2RNOb"
      }
    },
    {
      "cell_type": "code",
      "source": [
        "x = 10\n",
        "y = 5\n",
        "\n",
        "print(x > 0 and y > 0)  # AND\n",
        "print(x > 0 or y < 0)   # OR\n",
        "print(not(x > 0))       # NOT\n"
      ],
      "metadata": {
        "id": "d2G81-v3RO0v"
      },
      "execution_count": null,
      "outputs": []
    },
    {
      "cell_type": "markdown",
      "source": [
        "Q9. Write a Python program to convert user input from string to integer, float, and boolean types\n"
      ],
      "metadata": {
        "id": "p8UQm2opRR9L"
      }
    },
    {
      "cell_type": "code",
      "source": [
        "data = input(\"Enter a value: \")\n",
        "\n",
        "# Convert to int, float, bool\n",
        "try:\n",
        "    print(\"Integer:\", int(data))\n",
        "    print(\"Float:\", float(data))\n",
        "except ValueError:\n",
        "    print(\"Invalid numeric conversion\")\n",
        "\n",
        "print(\"Boolean:\", bool(data))\n"
      ],
      "metadata": {
        "id": "202OnMNzRVwf"
      },
      "execution_count": null,
      "outputs": []
    },
    {
      "cell_type": "markdown",
      "source": [
        "Q10. Write code to demonstrate type casting with list elements.\n"
      ],
      "metadata": {
        "id": "n6PC8uxrRZ3y"
      }
    },
    {
      "cell_type": "code",
      "source": [
        "numbers = [\"1\", \"2\", \"3\", \"4\", \"5\"]\n",
        "numbers_int = [int(num) for num in numbers]\n",
        "print(numbers_int)\n"
      ],
      "metadata": {
        "id": "eQMCxQaVRdcr"
      },
      "execution_count": null,
      "outputs": []
    },
    {
      "cell_type": "markdown",
      "source": [
        "Q11. Write a program that checks if a number is positive, negative, or zero.\n"
      ],
      "metadata": {
        "id": "cPc3UEFtRkeB"
      }
    },
    {
      "cell_type": "code",
      "source": [
        "num = float(input(\"Enter a number: \"))\n",
        "if num > 0:\n",
        "    print(\"Positive\")\n",
        "elif num < 0:\n",
        "    print(\"Negative\")\n",
        "else:\n",
        "    print(\"Zero\")\n"
      ],
      "metadata": {
        "id": "gfWB9Nb3Ro6N"
      },
      "execution_count": null,
      "outputs": []
    },
    {
      "cell_type": "markdown",
      "source": [
        "Q12. Write a for loop to print numbers from 1 to 10.\n"
      ],
      "metadata": {
        "id": "-M1tV0ciRt3d"
      }
    },
    {
      "cell_type": "code",
      "source": [
        "for i in range(1, 11):\n",
        "    print(i)\n"
      ],
      "metadata": {
        "id": "KWG2-cRDRxkp"
      },
      "execution_count": null,
      "outputs": []
    },
    {
      "cell_type": "markdown",
      "source": [
        "Q13. Write a Python program to find the sum of all even numbers between 1 and 50.\n"
      ],
      "metadata": {
        "id": "kdHAnfP3R0Tj"
      }
    },
    {
      "cell_type": "code",
      "source": [
        "total = 0\n",
        "for i in range(2, 51, 2):\n",
        "    total += i\n",
        "print(\"Sum of even numbers:\", total)\n"
      ],
      "metadata": {
        "id": "HrgaBRNyR36E"
      },
      "execution_count": null,
      "outputs": []
    },
    {
      "cell_type": "markdown",
      "source": [
        "Q14. Write a program to reverse a string using a while loop.\n"
      ],
      "metadata": {
        "id": "W8YCB6doR7Si"
      }
    },
    {
      "cell_type": "code",
      "source": [
        "text = input(\"Enter a string: \")\n",
        "reversed_text = \"\"\n",
        "i = len(text) - 1\n",
        "\n",
        "while i >= 0:\n",
        "    reversed_text += text[i]\n",
        "    i -= 1\n",
        "\n",
        "print(\"Reversed string:\", reversed_text)\n"
      ],
      "metadata": {
        "id": "zE7lZU5jSGNg"
      },
      "execution_count": null,
      "outputs": []
    },
    {
      "cell_type": "markdown",
      "source": [
        "Q15. Write a Python program to calculate the factorial of a number provided by the user using a while loop.\n"
      ],
      "metadata": {
        "id": "jJ8ndC6fSKDi"
      }
    },
    {
      "cell_type": "code",
      "source": [
        "num = int(input(\"Enter a number: \"))\n",
        "factorial = 1\n",
        "i=1\n",
        "\n",
        "while i <= num:\n",
        "    factorial *= i\n",
        "    i += 1\n",
        "\n",
        "print(\"Factorial:\", factorial)\n"
      ],
      "metadata": {
        "id": "EAbSFEa7SRTi"
      },
      "execution_count": null,
      "outputs": []
    }
  ]
}